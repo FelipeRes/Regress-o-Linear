{
 "cells": [
  {
   "cell_type": "code",
   "execution_count": 22,
   "metadata": {},
   "outputs": [],
   "source": [
    "import pandas as pd\n",
    "from collections import Counter\n",
    "import numpy as np\n",
    "import matplotlib.pyplot as plt\n",
    "from sklearn.model_selection import train_test_split, cross_val_predict\n",
    "import numpy\n",
    "from decimal import *"
   ]
  },
  {
   "cell_type": "code",
   "execution_count": 23,
   "metadata": {},
   "outputs": [],
   "source": [
    "colunas = ['X1', 'X2', 'X3', 'X4', 'X5', 'X6', 'X7', 'X8', 'Y1', 'Y2']\n",
    "train_df = pd.read_csv(\"dataset.csv\", names = colunas)\n",
    "train_df2 = pd.read_csv(\"dataset.csv\", names = colunas)\n",
    "\n",
    "train_df.__delitem__('X2')\n",
    "train_df.__delitem__('X4')"
   ]
  },
  {
   "cell_type": "code",
   "execution_count": 24,
   "metadata": {},
   "outputs": [],
   "source": [
    "for column in train_df.columns:\n",
    "    train_df[column] = train_df[column].apply(lambda v:v.replace(',','.') if type(v) is str else v)\n",
    "    train_df[column] = train_df[column].apply(lambda v:float(v))"
   ]
  },
  {
   "cell_type": "code",
   "execution_count": 25,
   "metadata": {},
   "outputs": [],
   "source": [
    "X_df = train_df\n",
    "Y_df = train_df['Y2']\n",
    "X_df.__delitem__('Y1')\n",
    "X_df.__delitem__('Y2')\n",
    "\n",
    "X = X_df\n",
    "Y = Y_df\n",
    "\n",
    "tamanho_de_treino = 614\n",
    "\n",
    "treino_dados = X[:tamanho_de_treino]\n",
    "treino_marcacoes = Y[:tamanho_de_treino]\n",
    "\n",
    "teste_dados = X[tamanho_de_treino:]\n",
    "teste_marcacoes = Y[tamanho_de_treino:]"
   ]
  },
  {
   "cell_type": "code",
   "execution_count": 26,
   "metadata": {},
   "outputs": [],
   "source": [
    "def plot_corr(df,size=10):\n",
    "    corr = df.corr()\n",
    "    fig, ax = plt.subplots(figsize=(size, size))\n",
    "    ax.matshow(corr)\n",
    "    plt.xticks(range(len(corr.columns)), corr.columns);\n",
    "    plt.yticks(range(len(corr.columns)), corr.columns);\n",
    "    plt.show()"
   ]
  },
  {
   "cell_type": "code",
   "execution_count": 27,
   "metadata": {},
   "outputs": [
    {
     "data": {
      "image/png": "[encoded data removed]",
      "text/plain": [
       "<Figure size 720x720 with 1 Axes>"
      ]
     },
     "metadata": {},
     "output_type": "display_data"
    }
   ],
   "source": [
    "plot_corr(train_df2)"
   ]
  },
  {
   "cell_type": "code",
   "execution_count": 28,
   "metadata": {},
   "outputs": [
    {
     "name": "stdout",
     "output_type": "stream",
     "text": [
      "Scores com regressão linear: 0.83\n"
     ]
    }
   ],
   "source": [
    "from sklearn.linear_model import LinearRegression\n",
    "regr = LinearRegression() \n",
    "regr.fit(treino_dados, treino_marcacoes)\n",
    "r2_train = regr.score(treino_dados, treino_marcacoes)\n",
    "print('Scores com regressão linear: %.2f' % r2_train)"
   ]
  },
  {
   "cell_type": "code",
   "execution_count": 29,
   "metadata": {},
   "outputs": [],
   "source": [
    "def fit_and_predict(nome,modelo, treino_dados, treino_marcacoes,teste_dados,teste_marcacoes):\n",
    "\tmodelo.fit(treino_dados, treino_marcacoes)\n",
    "\tresultado = modelo.predict(teste_dados)\n",
    "\tacertos = 0\n",
    "\ttamanho = len(teste_marcacoes)\n",
    "\tfor i in range(tamanho):\n",
    "\t\tif teste_marcacoes[i] == resultado[i]:\n",
    "\t\t\tacertos = acertos+1\n",
    "\tprint('%s: %.2f' % (nome,(acertos*100/tamanho)))"
   ]
  },
  {
   "cell_type": "code",
   "execution_count": null,
   "metadata": {},
   "outputs": [],
   "source": []
  },
  {
   "cell_type": "code",
   "execution_count": null,
   "metadata": {},
   "outputs": [],
   "source": []
  },
  {
   "cell_type": "code",
   "execution_count": null,
   "metadata": {},
   "outputs": [],
   "source": []
  }
 ],
 "metadata": {
  "kernelspec": {
   "display_name": "Python 3",
   "language": "python",
   "name": "python3"
  },
  "language_info": {
   "codemirror_mode": {
    "name": "ipython",
    "version": 3
   },
   "file_extension": ".py",
   "mimetype": "text/x-python",
   "name": "python",
   "nbconvert_exporter": "python",
   "pygments_lexer": "ipython3",
   "version": "3.6.4"
  }
 },
 "nbformat": 4,
 "nbformat_minor": 2
}

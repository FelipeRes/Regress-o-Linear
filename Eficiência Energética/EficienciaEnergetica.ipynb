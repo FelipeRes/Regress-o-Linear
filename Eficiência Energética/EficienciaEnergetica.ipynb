{
 "cells": [
  {
   "cell_type": "code",
   "execution_count": 1,
   "metadata": {},
   "outputs": [],
   "source": [
    "import pandas as pd\n",
    "from collections import Counter\n",
    "import numpy as np\n",
    "import matplotlib.pyplot as plt\n",
    "from sklearn.model_selection import train_test_split, cross_val_predict\n",
    "import numpy\n",
    "from decimal import *"
   ]
  },
  {
   "cell_type": "code",
   "execution_count": 2,
   "metadata": {},
   "outputs": [],
   "source": [
    "colunas = ['X1', 'X2', 'X3', 'X4', 'X5', 'X6', 'X7', 'X8', 'Y1', 'Y2']\n",
    "train_df = pd.read_csv(\"dataset.csv\", names = colunas)\n",
    "train_df2 = pd.read_csv(\"dataset.csv\", names = colunas)\n",
    "\n",
    "train_df.__delitem__('X2')\n",
    "train_df.__delitem__('X4')"
   ]
  },
  {
   "cell_type": "code",
   "execution_count": 3,
   "metadata": {},
   "outputs": [],
   "source": [
    "for column in train_df.columns:\n",
    "    train_df[column] = train_df[column].apply(lambda v:v.replace(',','.') if type(v) is str else v)\n",
    "    train_df[column] = train_df[column].apply(lambda v:float(v))"
   ]
  },
  {
   "cell_type": "code",
   "execution_count": 4,
   "metadata": {},
   "outputs": [],
   "source": [
    "X_df = train_df\n",
    "Y_df = train_df['Y2']\n",
    "X_df.__delitem__('Y1')\n",
    "X_df.__delitem__('Y2')\n",
    "\n",
    "X = X_df\n",
    "Y = Y_df\n",
    "\n",
    "tamanho_de_treino = 614\n",
    "\n",
    "treino_dados = X[:tamanho_de_treino]\n",
    "treino_marcacoes = Y[:tamanho_de_treino]\n",
    "\n",
    "teste_dados = X[tamanho_de_treino:]\n",
    "teste_marcacoes = Y[tamanho_de_treino:]"
   ]
  },
  {
   "cell_type": "code",
   "execution_count": 5,
   "metadata": {},
   "outputs": [],
   "source": [
    "def plot_corr(df,size=10):\n",
    "    corr = df.corr()\n",
    "    fig, ax = plt.subplots(figsize=(size, size))\n",
    "    ax.matshow(corr)\n",
    "    plt.xticks(range(len(corr.columns)), corr.columns);\n",
    "    plt.yticks(range(len(corr.columns)), corr.columns);\n",
    "    plt.show()"
   ]
  },
  {
   "cell_type": "code",
   "execution_count": 6,
   "metadata": {},
   "outputs": [
    {
     "data": {
      "image/png": "[encoded data removed]",
      "text/plain": [
       "<Figure size 720x720 with 1 Axes>"
      ]
     },
     "metadata": {},
     "output_type": "display_data"
    }
   ],
   "source": [
    "plot_corr(train_df2)"
   ]
  },
  {
   "cell_type": "code",
   "execution_count": 7,
   "metadata": {},
   "outputs": [
    {
     "name": "stdout",
     "output_type": "stream",
     "text": [
      "Scores com regressão linear: 0.88\n"
     ]
    }
   ],
   "source": [
    "from sklearn.linear_model import LinearRegression\n",
    "regr = LinearRegression() \n",
    "regr.fit(treino_dados, treino_marcacoes)\n",
    "r2_train = regr.score(treino_dados, treino_marcacoes)\n",
    "print('Scores com regressão linear: %.2f' % r2_train)"
   ]
  },
  {
   "cell_type": "code",
   "execution_count": 8,
   "metadata": {},
   "outputs": [
    {
     "ename": "ValueError",
     "evalue": "Unknown label type: (array([10.9 , 10.94, 11.17, 11.19, 11.27, 11.29, 11.67, 11.72, 11.73,\n       11.74, 11.93, 12.04, 12.05, 12.07, 12.08, 12.14, 12.22, 12.23,\n       12.4 , 13.2 , 13.21, 13.32, 13.36, 13.39, 13.43, 13.44, 13.46,\n       13.48, 13.49, 13.5 , 13.51, 13.53, 13.54, 13.57, 13.59, 13.6 ,\n       13.65, 13.67, 13.7 , 13.71, 13.72, 13.75, 13.77, 13.79, 13.8 ,\n       13.83, 13.87, 13.88, 13.89, 13.9 , 13.97, 13.99, 14.03, 14.09,\n       14.11, 14.12, 14.14, 14.15, 14.18, 14.2 , 14.21, 14.23, 14.24,\n       14.26, 14.27, 14.28, 14.29, 14.3 , 14.33, 14.34, 14.35, 14.37,\n       14.38, 14.39, 14.4 , 14.42, 14.44, 14.45, 14.46, 14.47, 14.48,\n       14.49, 14.5 , 14.54, 14.55, 14.57, 14.58, 14.6 , 14.61, 14.65,\n       14.67, 14.71, 14.72, 14.73, 14.74, 14.75, 14.76, 14.81, 14.83,\n       14.86, 14.87, 14.89, 14.91, 14.92, 14.94, 14.96, 14.97, 15.  ,\n       15.03, 15.07, 15.09, 15.1 , 15.14, 15.17, 15.18, 15.19, 15.2 ,\n       15.21, 15.22, 15.23, 15.24, 15.27, 15.28, 15.3 , 15.32, 15.35,\n       15.37, 15.38, 15.4 , 15.41, 15.42, 15.44, 15.48, 15.5 , 15.52,\n       15.53, 15.56, 15.57, 15.59, 15.63, 15.64, 15.66, 15.73, 15.76,\n       15.77, 15.78, 15.8 , 15.81, 15.83, 15.85, 15.87, 15.89, 15.95,\n       15.99, 16.03, 16.06, 16.13, 16.14, 16.17, 16.19, 16.22, 16.26,\n       16.27, 16.39, 16.43, 16.44, 16.5 , 16.67, 16.75, 16.77, 16.78,\n       16.8 , 16.87, 16.93, 16.94, 16.99, 17.  , 17.01, 17.03, 17.1 ,\n       17.12, 17.15, 17.2 , 17.21, 17.22, 17.23, 17.25, 17.27, 17.37,\n       17.47, 17.51, 17.85, 17.89, 17.95, 18.03, 18.14, 19.14, 19.18,\n       19.23, 19.24, 19.25, 19.26, 19.29, 19.3 , 19.32, 19.34, 19.37,\n       19.42, 19.43, 19.48, 19.65, 19.76, 19.87, 19.9 , 20.01, 20.03,\n       20.13, 20.19, 20.28, 20.29, 20.37, 20.43, 20.46, 20.47, 20.48,\n       20.56, 21.08, 21.09, 21.13, 21.16, 21.19, 21.33, 21.46, 21.97,\n       22.53, 22.72, 22.73, 23.49, 23.77, 24.61, 24.77, 24.8 , 24.91,\n       24.93, 25.02, 25.11, 25.16, 25.35, 25.38, 25.6 , 25.63, 25.64,\n       25.68, 25.72, 25.81, 25.82, 25.84, 25.87, 25.88, 25.89, 25.9 ,\n       25.91, 25.95, 25.98, 26.02, 26.08, 26.13, 26.14, 26.18, 26.29,\n       26.3 , 26.37, 26.41, 26.44, 26.47, 26.53, 26.72, 26.95, 26.96,\n       27.03, 27.17, 27.25, 27.3 , 27.31, 27.33, 27.34, 27.36, 27.38,\n       27.4 , 27.54, 27.57, 27.69, 27.76, 27.84, 27.87, 27.89, 27.93,\n       28.02, 28.14, 28.27, 28.28, 28.31, 28.38, 28.51, 28.61, 28.68,\n       28.76, 28.77, 28.79, 28.88, 28.95, 28.99, 29.13, 29.28, 29.31,\n       29.34, 29.36, 29.4 , 29.43, 29.44, 29.45, 29.49, 29.52, 29.53,\n       29.58, 29.59, 29.6 , 29.61, 29.62, 29.67, 29.68, 29.69, 29.77,\n       29.78, 29.79, 29.82, 29.87, 29.88, 29.9 , 29.92, 30.  , 30.02,\n       30.08, 30.1 , 30.12, 30.17, 30.18, 30.19, 30.2 , 30.34, 30.53,\n       30.66, 30.89, 30.91, 30.93, 31.01, 31.06, 31.27, 31.28, 31.39,\n       31.7 , 31.71, 31.73, 31.76, 31.9 , 32.  , 32.04, 32.12, 32.25,\n       32.28, 32.46, 32.54, 32.64, 32.71, 32.77, 32.83, 32.85, 32.92,\n       32.93, 32.96, 33.01, 33.04, 33.13, 33.16, 33.17, 33.34, 33.37,\n       33.47, 33.52, 33.54, 33.62, 33.64, 33.67, 33.78, 33.85, 33.87,\n       33.88, 33.89, 33.91, 33.93, 33.94, 33.98, 34.05, 34.07, 34.11,\n       34.14, 34.15, 34.17, 34.18, 34.19, 34.2 , 34.25, 34.29, 34.33,\n       34.35, 34.43, 34.45, 34.48, 34.5 , 34.52, 34.62, 34.73, 34.94,\n       34.99, 35.1 , 35.28, 35.29, 35.39, 35.48, 35.56, 35.62, 35.73,\n       35.92, 35.99, 36.07, 36.12, 36.15, 36.16, 36.26, 36.35, 36.38,\n       36.44, 36.62, 36.66, 36.73, 36.76, 36.77, 36.81, 36.85, 36.86,\n       36.87, 36.93, 37.01, 37.05, 37.12, 37.19, 37.2 , 37.26, 37.28,\n       37.29, 37.35, 37.41, 37.45, 37.51, 37.54, 37.58, 37.72, 37.73,\n       37.76, 37.81, 38.35, 38.84, 39.07, 39.28, 39.41, 39.44, 39.48,\n       39.55, 39.7 , 40.4 , 40.47, 40.63, 40.66, 40.85, 40.99, 41.07,\n       41.22, 41.26, 41.68, 41.86, 42.86, 43.12, 43.14, 43.3 , 43.33,\n       43.66, 43.73, 43.8 , 43.86, 44.16, 45.13, 45.28, 45.29, 45.48,\n       45.52, 45.59, 45.97, 46.94, 48.03]),)",
     "output_type": "error",
     "traceback": [
      "\u001b[1;31m---------------------------------------------------------------------------\u001b[0m",
      "\u001b[1;31mValueError\u001b[0m                                Traceback (most recent call last)",
      "\u001b[1;32m<ipython-input-8-d074891e42bf>\u001b[0m in \u001b[0;36m<module>\u001b[1;34m()\u001b[0m\n\u001b[0;32m      1\u001b[0m \u001b[1;32mfrom\u001b[0m \u001b[0msklearn\u001b[0m\u001b[1;33m.\u001b[0m\u001b[0mnaive_bayes\u001b[0m \u001b[1;32mimport\u001b[0m \u001b[0mGaussianNB\u001b[0m\u001b[1;33m\u001b[0m\u001b[0m\n\u001b[0;32m      2\u001b[0m \u001b[0mmodelo\u001b[0m \u001b[1;33m=\u001b[0m \u001b[0mGaussianNB\u001b[0m\u001b[1;33m(\u001b[0m\u001b[1;33m)\u001b[0m\u001b[1;33m\u001b[0m\u001b[0m\n\u001b[1;32m----> 3\u001b[1;33m \u001b[0mmodelo\u001b[0m\u001b[1;33m.\u001b[0m\u001b[0mfit\u001b[0m\u001b[1;33m(\u001b[0m\u001b[0mtreino_dados\u001b[0m\u001b[1;33m,\u001b[0m \u001b[0mtreino_marcacoes\u001b[0m\u001b[1;33m)\u001b[0m\u001b[1;33m\u001b[0m\u001b[0m\n\u001b[0m\u001b[0;32m      4\u001b[0m \u001b[0mmodelo\u001b[0m\u001b[1;33m.\u001b[0m\u001b[0mscore\u001b[0m\u001b[1;33m(\u001b[0m\u001b[0mteste_dados\u001b[0m\u001b[1;33m,\u001b[0m \u001b[0mteste_marcacoes\u001b[0m\u001b[1;33m)\u001b[0m\u001b[1;33m\u001b[0m\u001b[0m\n",
      "\u001b[1;32mc:\\users\\dell\\appdata\\local\\programs\\python\\python36-32\\lib\\site-packages\\sklearn\\naive_bayes.py\u001b[0m in \u001b[0;36mfit\u001b[1;34m(self, X, y, sample_weight)\u001b[0m\n\u001b[0;32m    183\u001b[0m         \u001b[0mX\u001b[0m\u001b[1;33m,\u001b[0m \u001b[0my\u001b[0m \u001b[1;33m=\u001b[0m \u001b[0mcheck_X_y\u001b[0m\u001b[1;33m(\u001b[0m\u001b[0mX\u001b[0m\u001b[1;33m,\u001b[0m \u001b[0my\u001b[0m\u001b[1;33m)\u001b[0m\u001b[1;33m\u001b[0m\u001b[0m\n\u001b[0;32m    184\u001b[0m         return self._partial_fit(X, y, np.unique(y), _refit=True,\n\u001b[1;32m--> 185\u001b[1;33m                                  sample_weight=sample_weight)\n\u001b[0m\u001b[0;32m    186\u001b[0m \u001b[1;33m\u001b[0m\u001b[0m\n\u001b[0;32m    187\u001b[0m     \u001b[1;33m@\u001b[0m\u001b[0mstaticmethod\u001b[0m\u001b[1;33m\u001b[0m\u001b[0m\n",
      "\u001b[1;32mc:\\users\\dell\\appdata\\local\\programs\\python\\python36-32\\lib\\site-packages\\sklearn\\naive_bayes.py\u001b[0m in \u001b[0;36m_partial_fit\u001b[1;34m(self, X, y, classes, _refit, sample_weight)\u001b[0m\n\u001b[0;32m    348\u001b[0m             \u001b[0mself\u001b[0m\u001b[1;33m.\u001b[0m\u001b[0mclasses_\u001b[0m \u001b[1;33m=\u001b[0m \u001b[1;32mNone\u001b[0m\u001b[1;33m\u001b[0m\u001b[0m\n\u001b[0;32m    349\u001b[0m \u001b[1;33m\u001b[0m\u001b[0m\n\u001b[1;32m--> 350\u001b[1;33m         \u001b[1;32mif\u001b[0m \u001b[0m_check_partial_fit_first_call\u001b[0m\u001b[1;33m(\u001b[0m\u001b[0mself\u001b[0m\u001b[1;33m,\u001b[0m \u001b[0mclasses\u001b[0m\u001b[1;33m)\u001b[0m\u001b[1;33m:\u001b[0m\u001b[1;33m\u001b[0m\u001b[0m\n\u001b[0m\u001b[0;32m    351\u001b[0m             \u001b[1;31m# This is the first call to partial_fit:\u001b[0m\u001b[1;33m\u001b[0m\u001b[1;33m\u001b[0m\u001b[0m\n\u001b[0;32m    352\u001b[0m             \u001b[1;31m# initialize various cumulative counters\u001b[0m\u001b[1;33m\u001b[0m\u001b[1;33m\u001b[0m\u001b[0m\n",
      "\u001b[1;32mc:\\users\\dell\\appdata\\local\\programs\\python\\python36-32\\lib\\site-packages\\sklearn\\utils\\multiclass.py\u001b[0m in \u001b[0;36m_check_partial_fit_first_call\u001b[1;34m(clf, classes)\u001b[0m\n\u001b[0;32m    319\u001b[0m         \u001b[1;32melse\u001b[0m\u001b[1;33m:\u001b[0m\u001b[1;33m\u001b[0m\u001b[0m\n\u001b[0;32m    320\u001b[0m             \u001b[1;31m# This is the first call to partial_fit\u001b[0m\u001b[1;33m\u001b[0m\u001b[1;33m\u001b[0m\u001b[0m\n\u001b[1;32m--> 321\u001b[1;33m             \u001b[0mclf\u001b[0m\u001b[1;33m.\u001b[0m\u001b[0mclasses_\u001b[0m \u001b[1;33m=\u001b[0m \u001b[0munique_labels\u001b[0m\u001b[1;33m(\u001b[0m\u001b[0mclasses\u001b[0m\u001b[1;33m)\u001b[0m\u001b[1;33m\u001b[0m\u001b[0m\n\u001b[0m\u001b[0;32m    322\u001b[0m             \u001b[1;32mreturn\u001b[0m \u001b[1;32mTrue\u001b[0m\u001b[1;33m\u001b[0m\u001b[0m\n\u001b[0;32m    323\u001b[0m \u001b[1;33m\u001b[0m\u001b[0m\n",
      "\u001b[1;32mc:\\users\\dell\\appdata\\local\\programs\\python\\python36-32\\lib\\site-packages\\sklearn\\utils\\multiclass.py\u001b[0m in \u001b[0;36munique_labels\u001b[1;34m(*ys)\u001b[0m\n\u001b[0;32m     95\u001b[0m     \u001b[0m_unique_labels\u001b[0m \u001b[1;33m=\u001b[0m \u001b[0m_FN_UNIQUE_LABELS\u001b[0m\u001b[1;33m.\u001b[0m\u001b[0mget\u001b[0m\u001b[1;33m(\u001b[0m\u001b[0mlabel_type\u001b[0m\u001b[1;33m,\u001b[0m \u001b[1;32mNone\u001b[0m\u001b[1;33m)\u001b[0m\u001b[1;33m\u001b[0m\u001b[0m\n\u001b[0;32m     96\u001b[0m     \u001b[1;32mif\u001b[0m \u001b[1;32mnot\u001b[0m \u001b[0m_unique_labels\u001b[0m\u001b[1;33m:\u001b[0m\u001b[1;33m\u001b[0m\u001b[0m\n\u001b[1;32m---> 97\u001b[1;33m         \u001b[1;32mraise\u001b[0m \u001b[0mValueError\u001b[0m\u001b[1;33m(\u001b[0m\u001b[1;34m\"Unknown label type: %s\"\u001b[0m \u001b[1;33m%\u001b[0m \u001b[0mrepr\u001b[0m\u001b[1;33m(\u001b[0m\u001b[0mys\u001b[0m\u001b[1;33m)\u001b[0m\u001b[1;33m)\u001b[0m\u001b[1;33m\u001b[0m\u001b[0m\n\u001b[0m\u001b[0;32m     98\u001b[0m \u001b[1;33m\u001b[0m\u001b[0m\n\u001b[0;32m     99\u001b[0m     \u001b[0mys_labels\u001b[0m \u001b[1;33m=\u001b[0m \u001b[0mset\u001b[0m\u001b[1;33m(\u001b[0m\u001b[0mchain\u001b[0m\u001b[1;33m.\u001b[0m\u001b[0mfrom_iterable\u001b[0m\u001b[1;33m(\u001b[0m\u001b[0m_unique_labels\u001b[0m\u001b[1;33m(\u001b[0m\u001b[0my\u001b[0m\u001b[1;33m)\u001b[0m \u001b[1;32mfor\u001b[0m \u001b[0my\u001b[0m \u001b[1;32min\u001b[0m \u001b[0mys\u001b[0m\u001b[1;33m)\u001b[0m\u001b[1;33m)\u001b[0m\u001b[1;33m\u001b[0m\u001b[0m\n",
      "\u001b[1;31mValueError\u001b[0m: Unknown label type: (array([10.9 , 10.94, 11.17, 11.19, 11.27, 11.29, 11.67, 11.72, 11.73,\n       11.74, 11.93, 12.04, 12.05, 12.07, 12.08, 12.14, 12.22, 12.23,\n       12.4 , 13.2 , 13.21, 13.32, 13.36, 13.39, 13.43, 13.44, 13.46,\n       13.48, 13.49, 13.5 , 13.51, 13.53, 13.54, 13.57, 13.59, 13.6 ,\n       13.65, 13.67, 13.7 , 13.71, 13.72, 13.75, 13.77, 13.79, 13.8 ,\n       13.83, 13.87, 13.88, 13.89, 13.9 , 13.97, 13.99, 14.03, 14.09,\n       14.11, 14.12, 14.14, 14.15, 14.18, 14.2 , 14.21, 14.23, 14.24,\n       14.26, 14.27, 14.28, 14.29, 14.3 , 14.33, 14.34, 14.35, 14.37,\n       14.38, 14.39, 14.4 , 14.42, 14.44, 14.45, 14.46, 14.47, 14.48,\n       14.49, 14.5 , 14.54, 14.55, 14.57, 14.58, 14.6 , 14.61, 14.65,\n       14.67, 14.71, 14.72, 14.73, 14.74, 14.75, 14.76, 14.81, 14.83,\n       14.86, 14.87, 14.89, 14.91, 14.92, 14.94, 14.96, 14.97, 15.  ,\n       15.03, 15.07, 15.09, 15.1 , 15.14, 15.17, 15.18, 15.19, 15.2 ,\n       15.21, 15.22, 15.23, 15.24, 15.27, 15.28, 15.3 , 15.32, 15.35,\n       15.37, 15.38, 15.4 , 15.41, 15.42, 15.44, 15.48, 15.5 , 15.52,\n       15.53, 15.56, 15.57, 15.59, 15.63, 15.64, 15.66, 15.73, 15.76,\n       15.77, 15.78, 15.8 , 15.81, 15.83, 15.85, 15.87, 15.89, 15.95,\n       15.99, 16.03, 16.06, 16.13, 16.14, 16.17, 16.19, 16.22, 16.26,\n       16.27, 16.39, 16.43, 16.44, 16.5 , 16.67, 16.75, 16.77, 16.78,\n       16.8 , 16.87, 16.93, 16.94, 16.99, 17.  , 17.01, 17.03, 17.1 ,\n       17.12, 17.15, 17.2 , 17.21, 17.22, 17.23, 17.25, 17.27, 17.37,\n       17.47, 17.51, 17.85, 17.89, 17.95, 18.03, 18.14, 19.14, 19.18,\n       19.23, 19.24, 19.25, 19.26, 19.29, 19.3 , 19.32, 19.34, 19.37,\n       19.42, 19.43, 19.48, 19.65, 19.76, 19.87, 19.9 , 20.01, 20.03,\n       20.13, 20.19, 20.28, 20.29, 20.37, 20.43, 20.46, 20.47, 20.48,\n       20.56, 21.08, 21.09, 21.13, 21.16, 21.19, 21.33, 21.46, 21.97,\n       22.53, 22.72, 22.73, 23.49, 23.77, 24.61, 24.77, 24.8 , 24.91,\n       24.93, 25.02, 25.11, 25.16, 25.35, 25.38, 25.6 , 25.63, 25.64,\n       25.68, 25.72, 25.81, 25.82, 25.84, 25.87, 25.88, 25.89, 25.9 ,\n       25.91, 25.95, 25.98, 26.02, 26.08, 26.13, 26.14, 26.18, 26.29,\n       26.3 , 26.37, 26.41, 26.44, 26.47, 26.53, 26.72, 26.95, 26.96,\n       27.03, 27.17, 27.25, 27.3 , 27.31, 27.33, 27.34, 27.36, 27.38,\n       27.4 , 27.54, 27.57, 27.69, 27.76, 27.84, 27.87, 27.89, 27.93,\n       28.02, 28.14, 28.27, 28.28, 28.31, 28.38, 28.51, 28.61, 28.68,\n       28.76, 28.77, 28.79, 28.88, 28.95, 28.99, 29.13, 29.28, 29.31,\n       29.34, 29.36, 29.4 , 29.43, 29.44, 29.45, 29.49, 29.52, 29.53,\n       29.58, 29.59, 29.6 , 29.61, 29.62, 29.67, 29.68, 29.69, 29.77,\n       29.78, 29.79, 29.82, 29.87, 29.88, 29.9 , 29.92, 30.  , 30.02,\n       30.08, 30.1 , 30.12, 30.17, 30.18, 30.19, 30.2 , 30.34, 30.53,\n       30.66, 30.89, 30.91, 30.93, 31.01, 31.06, 31.27, 31.28, 31.39,\n       31.7 , 31.71, 31.73, 31.76, 31.9 , 32.  , 32.04, 32.12, 32.25,\n       32.28, 32.46, 32.54, 32.64, 32.71, 32.77, 32.83, 32.85, 32.92,\n       32.93, 32.96, 33.01, 33.04, 33.13, 33.16, 33.17, 33.34, 33.37,\n       33.47, 33.52, 33.54, 33.62, 33.64, 33.67, 33.78, 33.85, 33.87,\n       33.88, 33.89, 33.91, 33.93, 33.94, 33.98, 34.05, 34.07, 34.11,\n       34.14, 34.15, 34.17, 34.18, 34.19, 34.2 , 34.25, 34.29, 34.33,\n       34.35, 34.43, 34.45, 34.48, 34.5 , 34.52, 34.62, 34.73, 34.94,\n       34.99, 35.1 , 35.28, 35.29, 35.39, 35.48, 35.56, 35.62, 35.73,\n       35.92, 35.99, 36.07, 36.12, 36.15, 36.16, 36.26, 36.35, 36.38,\n       36.44, 36.62, 36.66, 36.73, 36.76, 36.77, 36.81, 36.85, 36.86,\n       36.87, 36.93, 37.01, 37.05, 37.12, 37.19, 37.2 , 37.26, 37.28,\n       37.29, 37.35, 37.41, 37.45, 37.51, 37.54, 37.58, 37.72, 37.73,\n       37.76, 37.81, 38.35, 38.84, 39.07, 39.28, 39.41, 39.44, 39.48,\n       39.55, 39.7 , 40.4 , 40.47, 40.63, 40.66, 40.85, 40.99, 41.07,\n       41.22, 41.26, 41.68, 41.86, 42.86, 43.12, 43.14, 43.3 , 43.33,\n       43.66, 43.73, 43.8 , 43.86, 44.16, 45.13, 45.28, 45.29, 45.48,\n       45.52, 45.59, 45.97, 46.94, 48.03]),)"
     ]
    }
   ],
   "source": [
    "from sklearn.naive_bayes import GaussianNB\n",
    "modelo = GaussianNB()\n",
    "modelo.fit(treino_dados, treino_marcacoes)\n",
    "modelo.score(teste_dados, teste_marcacoes)"
   ]
  },
  {
   "cell_type": "code",
   "execution_count": null,
   "metadata": {},
   "outputs": [],
   "source": [
    "from matplotlib import pyplot as pl\n",
    "def lin_regression(x, y):\n",
    "    \"\"\"Simple linear regression (y = m * x + b + error).\"\"\"\n",
    "    m, b, R, p, SEm = linregress(x, y)\n",
    "\n",
    "    # need to compute SEb, linregress only computes SEm\n",
    "    n = len(x)\n",
    "    SSx = np.var(x, ddof=1) * (n-1)  # this is sum( (x - mean(x))**2 )\n",
    "    SEb2 = SEm**2 * (SSx/n + np.mean(x)**2)\n",
    "    SEb = SEb2**0.5\n",
    "\n",
    "    return m, b, SEm, SEb, R, p"
   ]
  },
  {
   "cell_type": "code",
   "execution_count": null,
   "metadata": {},
   "outputs": [],
   "source": [
    "m, b, Sm, Sb, R, p = lin_regression(treino_dados, treino_marcacoes)"
   ]
  },
  {
   "cell_type": "code",
   "execution_count": null,
   "metadata": {},
   "outputs": [],
   "source": []
  }
 ],
 "metadata": {
  "kernelspec": {
   "display_name": "Python 3",
   "language": "python",
   "name": "python3"
  },
  "language_info": {
   "codemirror_mode": {
    "name": "ipython",
    "version": 3
   },
   "file_extension": ".py",
   "mimetype": "text/x-python",
   "name": "python",
   "nbconvert_exporter": "python",
   "pygments_lexer": "ipython3",
   "version": "3.6.4"
  }
 },
 "nbformat": 4,
 "nbformat_minor": 2
}
